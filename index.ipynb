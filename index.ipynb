{
 "cells": [
  {
   "cell_type": "markdown",
   "id": "a999da65",
   "metadata": {},
   "source": [
    "### Business problem\n",
    "Build a model that provides top 5 movie recommendations to a user, based on their ratings of other movies. "
   ]
  },
  {
   "cell_type": "code",
   "execution_count": 86,
   "id": "367d4e45",
   "metadata": {},
   "outputs": [
    {
     "data": {
      "application/vnd.microsoft.datawrangler.viewer.v0+json": {
       "columns": [
        {
         "name": "index",
         "rawType": "int64",
         "type": "integer"
        },
        {
         "name": "movieId",
         "rawType": "int64",
         "type": "integer"
        },
        {
         "name": "title",
         "rawType": "object",
         "type": "string"
        },
        {
         "name": "genres",
         "rawType": "object",
         "type": "string"
        }
       ],
       "ref": "48862145-1b08-445f-9d8a-ac11a7709ffc",
       "rows": [
        [
         "0",
         "1",
         "Toy Story (1995)",
         "Adventure|Animation|Children|Comedy|Fantasy"
        ],
        [
         "1",
         "2",
         "Jumanji (1995)",
         "Adventure|Children|Fantasy"
        ],
        [
         "2",
         "3",
         "Grumpier Old Men (1995)",
         "Comedy|Romance"
        ],
        [
         "3",
         "4",
         "Waiting to Exhale (1995)",
         "Comedy|Drama|Romance"
        ],
        [
         "4",
         "5",
         "Father of the Bride Part II (1995)",
         "Comedy"
        ],
        [
         "5",
         "6",
         "Heat (1995)",
         "Action|Crime|Thriller"
        ],
        [
         "6",
         "7",
         "Sabrina (1995)",
         "Comedy|Romance"
        ],
        [
         "7",
         "8",
         "Tom and Huck (1995)",
         "Adventure|Children"
        ],
        [
         "8",
         "9",
         "Sudden Death (1995)",
         "Action"
        ],
        [
         "9",
         "10",
         "GoldenEye (1995)",
         "Action|Adventure|Thriller"
        ],
        [
         "10",
         "11",
         "American President, The (1995)",
         "Comedy|Drama|Romance"
        ],
        [
         "11",
         "12",
         "Dracula: Dead and Loving It (1995)",
         "Comedy|Horror"
        ],
        [
         "12",
         "13",
         "Balto (1995)",
         "Adventure|Animation|Children"
        ],
        [
         "13",
         "14",
         "Nixon (1995)",
         "Drama"
        ],
        [
         "14",
         "15",
         "Cutthroat Island (1995)",
         "Action|Adventure|Romance"
        ],
        [
         "15",
         "16",
         "Casino (1995)",
         "Crime|Drama"
        ],
        [
         "16",
         "17",
         "Sense and Sensibility (1995)",
         "Drama|Romance"
        ],
        [
         "17",
         "18",
         "Four Rooms (1995)",
         "Comedy"
        ],
        [
         "18",
         "19",
         "Ace Ventura: When Nature Calls (1995)",
         "Comedy"
        ],
        [
         "19",
         "20",
         "Money Train (1995)",
         "Action|Comedy|Crime|Drama|Thriller"
        ],
        [
         "20",
         "21",
         "Get Shorty (1995)",
         "Comedy|Crime|Thriller"
        ],
        [
         "21",
         "22",
         "Copycat (1995)",
         "Crime|Drama|Horror|Mystery|Thriller"
        ],
        [
         "22",
         "23",
         "Assassins (1995)",
         "Action|Crime|Thriller"
        ],
        [
         "23",
         "24",
         "Powder (1995)",
         "Drama|Sci-Fi"
        ],
        [
         "24",
         "25",
         "Leaving Las Vegas (1995)",
         "Drama|Romance"
        ],
        [
         "25",
         "26",
         "Othello (1995)",
         "Drama"
        ],
        [
         "26",
         "27",
         "Now and Then (1995)",
         "Children|Drama"
        ],
        [
         "27",
         "28",
         "Persuasion (1995)",
         "Drama|Romance"
        ],
        [
         "28",
         "29",
         "City of Lost Children, The (Cité des enfants perdus, La) (1995)",
         "Adventure|Drama|Fantasy|Mystery|Sci-Fi"
        ],
        [
         "29",
         "30",
         "Shanghai Triad (Yao a yao yao dao waipo qiao) (1995)",
         "Crime|Drama"
        ],
        [
         "30",
         "31",
         "Dangerous Minds (1995)",
         "Drama"
        ],
        [
         "31",
         "32",
         "Twelve Monkeys (a.k.a. 12 Monkeys) (1995)",
         "Mystery|Sci-Fi|Thriller"
        ],
        [
         "32",
         "34",
         "Babe (1995)",
         "Children|Drama"
        ],
        [
         "33",
         "36",
         "Dead Man Walking (1995)",
         "Crime|Drama"
        ],
        [
         "34",
         "38",
         "It Takes Two (1995)",
         "Children|Comedy"
        ],
        [
         "35",
         "39",
         "Clueless (1995)",
         "Comedy|Romance"
        ],
        [
         "36",
         "40",
         "Cry, the Beloved Country (1995)",
         "Drama"
        ],
        [
         "37",
         "41",
         "Richard III (1995)",
         "Drama|War"
        ],
        [
         "38",
         "42",
         "Dead Presidents (1995)",
         "Action|Crime|Drama"
        ],
        [
         "39",
         "43",
         "Restoration (1995)",
         "Drama"
        ],
        [
         "40",
         "44",
         "Mortal Kombat (1995)",
         "Action|Adventure|Fantasy"
        ],
        [
         "41",
         "45",
         "To Die For (1995)",
         "Comedy|Drama|Thriller"
        ],
        [
         "42",
         "46",
         "How to Make an American Quilt (1995)",
         "Drama|Romance"
        ],
        [
         "43",
         "47",
         "Seven (a.k.a. Se7en) (1995)",
         "Mystery|Thriller"
        ],
        [
         "44",
         "48",
         "Pocahontas (1995)",
         "Animation|Children|Drama|Musical|Romance"
        ],
        [
         "45",
         "49",
         "When Night Is Falling (1995)",
         "Drama|Romance"
        ],
        [
         "46",
         "50",
         "Usual Suspects, The (1995)",
         "Crime|Mystery|Thriller"
        ],
        [
         "47",
         "52",
         "Mighty Aphrodite (1995)",
         "Comedy|Drama|Romance"
        ],
        [
         "48",
         "53",
         "Lamerica (1994)",
         "Adventure|Drama"
        ],
        [
         "49",
         "54",
         "Big Green, The (1995)",
         "Children|Comedy"
        ]
       ],
       "shape": {
        "columns": 3,
        "rows": 9742
       }
      },
      "text/html": [
       "<div>\n",
       "<style scoped>\n",
       "    .dataframe tbody tr th:only-of-type {\n",
       "        vertical-align: middle;\n",
       "    }\n",
       "\n",
       "    .dataframe tbody tr th {\n",
       "        vertical-align: top;\n",
       "    }\n",
       "\n",
       "    .dataframe thead th {\n",
       "        text-align: right;\n",
       "    }\n",
       "</style>\n",
       "<table border=\"1\" class=\"dataframe\">\n",
       "  <thead>\n",
       "    <tr style=\"text-align: right;\">\n",
       "      <th></th>\n",
       "      <th>movieId</th>\n",
       "      <th>title</th>\n",
       "      <th>genres</th>\n",
       "    </tr>\n",
       "  </thead>\n",
       "  <tbody>\n",
       "    <tr>\n",
       "      <th>0</th>\n",
       "      <td>1</td>\n",
       "      <td>Toy Story (1995)</td>\n",
       "      <td>Adventure|Animation|Children|Comedy|Fantasy</td>\n",
       "    </tr>\n",
       "    <tr>\n",
       "      <th>1</th>\n",
       "      <td>2</td>\n",
       "      <td>Jumanji (1995)</td>\n",
       "      <td>Adventure|Children|Fantasy</td>\n",
       "    </tr>\n",
       "    <tr>\n",
       "      <th>2</th>\n",
       "      <td>3</td>\n",
       "      <td>Grumpier Old Men (1995)</td>\n",
       "      <td>Comedy|Romance</td>\n",
       "    </tr>\n",
       "    <tr>\n",
       "      <th>3</th>\n",
       "      <td>4</td>\n",
       "      <td>Waiting to Exhale (1995)</td>\n",
       "      <td>Comedy|Drama|Romance</td>\n",
       "    </tr>\n",
       "    <tr>\n",
       "      <th>4</th>\n",
       "      <td>5</td>\n",
       "      <td>Father of the Bride Part II (1995)</td>\n",
       "      <td>Comedy</td>\n",
       "    </tr>\n",
       "    <tr>\n",
       "      <th>...</th>\n",
       "      <td>...</td>\n",
       "      <td>...</td>\n",
       "      <td>...</td>\n",
       "    </tr>\n",
       "    <tr>\n",
       "      <th>9737</th>\n",
       "      <td>193581</td>\n",
       "      <td>Black Butler: Book of the Atlantic (2017)</td>\n",
       "      <td>Action|Animation|Comedy|Fantasy</td>\n",
       "    </tr>\n",
       "    <tr>\n",
       "      <th>9738</th>\n",
       "      <td>193583</td>\n",
       "      <td>No Game No Life: Zero (2017)</td>\n",
       "      <td>Animation|Comedy|Fantasy</td>\n",
       "    </tr>\n",
       "    <tr>\n",
       "      <th>9739</th>\n",
       "      <td>193585</td>\n",
       "      <td>Flint (2017)</td>\n",
       "      <td>Drama</td>\n",
       "    </tr>\n",
       "    <tr>\n",
       "      <th>9740</th>\n",
       "      <td>193587</td>\n",
       "      <td>Bungo Stray Dogs: Dead Apple (2018)</td>\n",
       "      <td>Action|Animation</td>\n",
       "    </tr>\n",
       "    <tr>\n",
       "      <th>9741</th>\n",
       "      <td>193609</td>\n",
       "      <td>Andrew Dice Clay: Dice Rules (1991)</td>\n",
       "      <td>Comedy</td>\n",
       "    </tr>\n",
       "  </tbody>\n",
       "</table>\n",
       "<p>9742 rows × 3 columns</p>\n",
       "</div>"
      ],
      "text/plain": [
       "      movieId                                      title  \\\n",
       "0           1                           Toy Story (1995)   \n",
       "1           2                             Jumanji (1995)   \n",
       "2           3                    Grumpier Old Men (1995)   \n",
       "3           4                   Waiting to Exhale (1995)   \n",
       "4           5         Father of the Bride Part II (1995)   \n",
       "...       ...                                        ...   \n",
       "9737   193581  Black Butler: Book of the Atlantic (2017)   \n",
       "9738   193583               No Game No Life: Zero (2017)   \n",
       "9739   193585                               Flint (2017)   \n",
       "9740   193587        Bungo Stray Dogs: Dead Apple (2018)   \n",
       "9741   193609        Andrew Dice Clay: Dice Rules (1991)   \n",
       "\n",
       "                                           genres  \n",
       "0     Adventure|Animation|Children|Comedy|Fantasy  \n",
       "1                      Adventure|Children|Fantasy  \n",
       "2                                  Comedy|Romance  \n",
       "3                            Comedy|Drama|Romance  \n",
       "4                                          Comedy  \n",
       "...                                           ...  \n",
       "9737              Action|Animation|Comedy|Fantasy  \n",
       "9738                     Animation|Comedy|Fantasy  \n",
       "9739                                        Drama  \n",
       "9740                             Action|Animation  \n",
       "9741                                       Comedy  \n",
       "\n",
       "[9742 rows x 3 columns]"
      ]
     },
     "execution_count": 86,
     "metadata": {},
     "output_type": "execute_result"
    }
   ],
   "source": [
    "# import libraries\n",
    "import matplotlib.pyplot as plt\n",
    "import numpy as np\n",
    "import pandas as pd\n",
    "\n",
    "# read the data\n",
    "movie_df = pd.read_csv(\"./data/movies.csv\")\n",
    "movie_df"
   ]
  },
  {
   "cell_type": "code",
   "execution_count": 87,
   "id": "801b3727",
   "metadata": {},
   "outputs": [
    {
     "name": "stdout",
     "output_type": "stream",
     "text": [
      "<class 'pandas.core.frame.DataFrame'>\n",
      "RangeIndex: 9742 entries, 0 to 9741\n",
      "Data columns (total 3 columns):\n",
      " #   Column   Non-Null Count  Dtype \n",
      "---  ------   --------------  ----- \n",
      " 0   movieId  9742 non-null   int64 \n",
      " 1   title    9742 non-null   object\n",
      " 2   genres   9742 non-null   object\n",
      "dtypes: int64(1), object(2)\n",
      "memory usage: 228.5+ KB\n"
     ]
    }
   ],
   "source": [
    "movie_df.info()\n"
   ]
  },
  {
   "cell_type": "code",
   "execution_count": 88,
   "id": "f0fa89b4",
   "metadata": {},
   "outputs": [
    {
     "data": {
      "application/vnd.microsoft.datawrangler.viewer.v0+json": {
       "columns": [
        {
         "name": "userId",
         "rawType": "int64",
         "type": "integer"
        },
        {
         "name": "movieId",
         "rawType": "int64",
         "type": "integer"
        },
        {
         "name": "rating",
         "rawType": "float64",
         "type": "float"
        },
        {
         "name": "timestamp",
         "rawType": "int64",
         "type": "integer"
        }
       ],
       "ref": "b0f00963-3bb0-4d11-83da-c6a948ea5fb6",
       "rows": [
        [
         "1",
         "1",
         "4.0",
         "964982703"
        ],
        [
         "1",
         "3",
         "4.0",
         "964981247"
        ],
        [
         "1",
         "6",
         "4.0",
         "964982224"
        ],
        [
         "1",
         "47",
         "5.0",
         "964983815"
        ],
        [
         "1",
         "50",
         "5.0",
         "964982931"
        ],
        [
         "1",
         "70",
         "3.0",
         "964982400"
        ],
        [
         "1",
         "101",
         "5.0",
         "964980868"
        ],
        [
         "1",
         "110",
         "4.0",
         "964982176"
        ],
        [
         "1",
         "151",
         "5.0",
         "964984041"
        ],
        [
         "1",
         "157",
         "5.0",
         "964984100"
        ],
        [
         "1",
         "163",
         "5.0",
         "964983650"
        ],
        [
         "1",
         "216",
         "5.0",
         "964981208"
        ],
        [
         "1",
         "223",
         "3.0",
         "964980985"
        ],
        [
         "1",
         "231",
         "5.0",
         "964981179"
        ],
        [
         "1",
         "235",
         "4.0",
         "964980908"
        ],
        [
         "1",
         "260",
         "5.0",
         "964981680"
        ],
        [
         "1",
         "296",
         "3.0",
         "964982967"
        ],
        [
         "1",
         "316",
         "3.0",
         "964982310"
        ],
        [
         "1",
         "333",
         "5.0",
         "964981179"
        ],
        [
         "1",
         "349",
         "4.0",
         "964982563"
        ],
        [
         "1",
         "356",
         "4.0",
         "964980962"
        ],
        [
         "1",
         "362",
         "5.0",
         "964982588"
        ],
        [
         "1",
         "367",
         "4.0",
         "964981710"
        ],
        [
         "1",
         "423",
         "3.0",
         "964982363"
        ],
        [
         "1",
         "441",
         "4.0",
         "964980868"
        ],
        [
         "1",
         "457",
         "5.0",
         "964981909"
        ],
        [
         "1",
         "480",
         "4.0",
         "964982346"
        ],
        [
         "1",
         "500",
         "3.0",
         "964981208"
        ],
        [
         "1",
         "527",
         "5.0",
         "964984002"
        ],
        [
         "1",
         "543",
         "4.0",
         "964981179"
        ],
        [
         "1",
         "552",
         "4.0",
         "964982653"
        ],
        [
         "1",
         "553",
         "5.0",
         "964984153"
        ],
        [
         "1",
         "590",
         "4.0",
         "964982546"
        ],
        [
         "1",
         "592",
         "4.0",
         "964982271"
        ],
        [
         "1",
         "593",
         "4.0",
         "964983793"
        ],
        [
         "1",
         "596",
         "5.0",
         "964982838"
        ],
        [
         "1",
         "608",
         "5.0",
         "964982931"
        ],
        [
         "1",
         "648",
         "3.0",
         "964982563"
        ],
        [
         "1",
         "661",
         "5.0",
         "964982838"
        ],
        [
         "1",
         "673",
         "3.0",
         "964981775"
        ],
        [
         "1",
         "733",
         "4.0",
         "964982400"
        ],
        [
         "1",
         "736",
         "3.0",
         "964982653"
        ],
        [
         "1",
         "780",
         "3.0",
         "964984086"
        ],
        [
         "1",
         "804",
         "4.0",
         "964980499"
        ],
        [
         "1",
         "919",
         "5.0",
         "964982475"
        ],
        [
         "1",
         "923",
         "5.0",
         "964981529"
        ],
        [
         "1",
         "940",
         "5.0",
         "964982176"
        ],
        [
         "1",
         "943",
         "4.0",
         "964983614"
        ],
        [
         "1",
         "954",
         "5.0",
         "964983219"
        ],
        [
         "1",
         "1009",
         "3.0",
         "964981775"
        ]
       ],
       "shape": {
        "columns": 3,
        "rows": 100836
       }
      },
      "text/html": [
       "<div>\n",
       "<style scoped>\n",
       "    .dataframe tbody tr th:only-of-type {\n",
       "        vertical-align: middle;\n",
       "    }\n",
       "\n",
       "    .dataframe tbody tr th {\n",
       "        vertical-align: top;\n",
       "    }\n",
       "\n",
       "    .dataframe thead th {\n",
       "        text-align: right;\n",
       "    }\n",
       "</style>\n",
       "<table border=\"1\" class=\"dataframe\">\n",
       "  <thead>\n",
       "    <tr style=\"text-align: right;\">\n",
       "      <th></th>\n",
       "      <th>movieId</th>\n",
       "      <th>rating</th>\n",
       "      <th>timestamp</th>\n",
       "    </tr>\n",
       "    <tr>\n",
       "      <th>userId</th>\n",
       "      <th></th>\n",
       "      <th></th>\n",
       "      <th></th>\n",
       "    </tr>\n",
       "  </thead>\n",
       "  <tbody>\n",
       "    <tr>\n",
       "      <th>1</th>\n",
       "      <td>1</td>\n",
       "      <td>4.0</td>\n",
       "      <td>964982703</td>\n",
       "    </tr>\n",
       "    <tr>\n",
       "      <th>1</th>\n",
       "      <td>3</td>\n",
       "      <td>4.0</td>\n",
       "      <td>964981247</td>\n",
       "    </tr>\n",
       "    <tr>\n",
       "      <th>1</th>\n",
       "      <td>6</td>\n",
       "      <td>4.0</td>\n",
       "      <td>964982224</td>\n",
       "    </tr>\n",
       "    <tr>\n",
       "      <th>1</th>\n",
       "      <td>47</td>\n",
       "      <td>5.0</td>\n",
       "      <td>964983815</td>\n",
       "    </tr>\n",
       "    <tr>\n",
       "      <th>1</th>\n",
       "      <td>50</td>\n",
       "      <td>5.0</td>\n",
       "      <td>964982931</td>\n",
       "    </tr>\n",
       "    <tr>\n",
       "      <th>...</th>\n",
       "      <td>...</td>\n",
       "      <td>...</td>\n",
       "      <td>...</td>\n",
       "    </tr>\n",
       "    <tr>\n",
       "      <th>610</th>\n",
       "      <td>166534</td>\n",
       "      <td>4.0</td>\n",
       "      <td>1493848402</td>\n",
       "    </tr>\n",
       "    <tr>\n",
       "      <th>610</th>\n",
       "      <td>168248</td>\n",
       "      <td>5.0</td>\n",
       "      <td>1493850091</td>\n",
       "    </tr>\n",
       "    <tr>\n",
       "      <th>610</th>\n",
       "      <td>168250</td>\n",
       "      <td>5.0</td>\n",
       "      <td>1494273047</td>\n",
       "    </tr>\n",
       "    <tr>\n",
       "      <th>610</th>\n",
       "      <td>168252</td>\n",
       "      <td>5.0</td>\n",
       "      <td>1493846352</td>\n",
       "    </tr>\n",
       "    <tr>\n",
       "      <th>610</th>\n",
       "      <td>170875</td>\n",
       "      <td>3.0</td>\n",
       "      <td>1493846415</td>\n",
       "    </tr>\n",
       "  </tbody>\n",
       "</table>\n",
       "<p>100836 rows × 3 columns</p>\n",
       "</div>"
      ],
      "text/plain": [
       "        movieId  rating   timestamp\n",
       "userId                             \n",
       "1             1     4.0   964982703\n",
       "1             3     4.0   964981247\n",
       "1             6     4.0   964982224\n",
       "1            47     5.0   964983815\n",
       "1            50     5.0   964982931\n",
       "...         ...     ...         ...\n",
       "610      166534     4.0  1493848402\n",
       "610      168248     5.0  1493850091\n",
       "610      168250     5.0  1494273047\n",
       "610      168252     5.0  1493846352\n",
       "610      170875     3.0  1493846415\n",
       "\n",
       "[100836 rows x 3 columns]"
      ]
     },
     "execution_count": 88,
     "metadata": {},
     "output_type": "execute_result"
    }
   ],
   "source": [
    "ratings_df = pd.read_csv(\"./data/ratings.csv\", index_col=0)\n",
    "ratings_df"
   ]
  },
  {
   "cell_type": "code",
   "execution_count": 89,
   "id": "bd7b9162",
   "metadata": {},
   "outputs": [
    {
     "data": {
      "application/vnd.microsoft.datawrangler.viewer.v0+json": {
       "columns": [
        {
         "name": "index",
         "rawType": "int64",
         "type": "integer"
        },
        {
         "name": "movieId",
         "rawType": "int64",
         "type": "integer"
        },
        {
         "name": "title",
         "rawType": "object",
         "type": "string"
        },
        {
         "name": "genres",
         "rawType": "object",
         "type": "string"
        },
        {
         "name": "year",
         "rawType": "object",
         "type": "string"
        }
       ],
       "ref": "6832f21f-d9d0-4214-9a54-38e36f96b6be",
       "rows": [
        [
         "0",
         "1",
         "Toy Story",
         "Adventure|Animation|Children|Comedy|Fantasy",
         "1995"
        ],
        [
         "1",
         "2",
         "Jumanji",
         "Adventure|Children|Fantasy",
         "1995"
        ],
        [
         "2",
         "3",
         "Grumpier Old Men",
         "Comedy|Romance",
         "1995"
        ],
        [
         "3",
         "4",
         "Waiting to Exhale",
         "Comedy|Drama|Romance",
         "1995"
        ],
        [
         "4",
         "5",
         "Father of the Bride Part II",
         "Comedy",
         "1995"
        ]
       ],
       "shape": {
        "columns": 4,
        "rows": 5
       }
      },
      "text/html": [
       "<div>\n",
       "<style scoped>\n",
       "    .dataframe tbody tr th:only-of-type {\n",
       "        vertical-align: middle;\n",
       "    }\n",
       "\n",
       "    .dataframe tbody tr th {\n",
       "        vertical-align: top;\n",
       "    }\n",
       "\n",
       "    .dataframe thead th {\n",
       "        text-align: right;\n",
       "    }\n",
       "</style>\n",
       "<table border=\"1\" class=\"dataframe\">\n",
       "  <thead>\n",
       "    <tr style=\"text-align: right;\">\n",
       "      <th></th>\n",
       "      <th>movieId</th>\n",
       "      <th>title</th>\n",
       "      <th>genres</th>\n",
       "      <th>year</th>\n",
       "    </tr>\n",
       "  </thead>\n",
       "  <tbody>\n",
       "    <tr>\n",
       "      <th>0</th>\n",
       "      <td>1</td>\n",
       "      <td>Toy Story</td>\n",
       "      <td>Adventure|Animation|Children|Comedy|Fantasy</td>\n",
       "      <td>1995</td>\n",
       "    </tr>\n",
       "    <tr>\n",
       "      <th>1</th>\n",
       "      <td>2</td>\n",
       "      <td>Jumanji</td>\n",
       "      <td>Adventure|Children|Fantasy</td>\n",
       "      <td>1995</td>\n",
       "    </tr>\n",
       "    <tr>\n",
       "      <th>2</th>\n",
       "      <td>3</td>\n",
       "      <td>Grumpier Old Men</td>\n",
       "      <td>Comedy|Romance</td>\n",
       "      <td>1995</td>\n",
       "    </tr>\n",
       "    <tr>\n",
       "      <th>3</th>\n",
       "      <td>4</td>\n",
       "      <td>Waiting to Exhale</td>\n",
       "      <td>Comedy|Drama|Romance</td>\n",
       "      <td>1995</td>\n",
       "    </tr>\n",
       "    <tr>\n",
       "      <th>4</th>\n",
       "      <td>5</td>\n",
       "      <td>Father of the Bride Part II</td>\n",
       "      <td>Comedy</td>\n",
       "      <td>1995</td>\n",
       "    </tr>\n",
       "  </tbody>\n",
       "</table>\n",
       "</div>"
      ],
      "text/plain": [
       "   movieId                        title  \\\n",
       "0        1                    Toy Story   \n",
       "1        2                      Jumanji   \n",
       "2        3             Grumpier Old Men   \n",
       "3        4            Waiting to Exhale   \n",
       "4        5  Father of the Bride Part II   \n",
       "\n",
       "                                        genres  year  \n",
       "0  Adventure|Animation|Children|Comedy|Fantasy  1995  \n",
       "1                   Adventure|Children|Fantasy  1995  \n",
       "2                               Comedy|Romance  1995  \n",
       "3                         Comedy|Drama|Romance  1995  \n",
       "4                                       Comedy  1995  "
      ]
     },
     "execution_count": 89,
     "metadata": {},
     "output_type": "execute_result"
    }
   ],
   "source": [
    "movie_df['year'] = movie_df.title.str.extract(r'(\\(\\d\\d\\d\\d\\))', expand=False)\n",
    "\n",
    "movie_df['year'] = movie_df.year.str.extract(r'(\\d\\d\\d\\d)', expand=False)\n",
    "# replace the parantheses with nothing\n",
    "movie_df['title'] = movie_df['title'].str.replace(r'\\(\\d{4}\\)', '', regex=True)\n",
    "\n",
    "movie_df['title'] = movie_df['title'].apply(lambda x: x.strip())  # remove whitespace\n",
    "\n",
    "movie_df.head()"
   ]
  },
  {
   "cell_type": "code",
   "execution_count": 90,
   "id": "61084274",
   "metadata": {},
   "outputs": [
    {
     "data": {
      "application/vnd.microsoft.datawrangler.viewer.v0+json": {
       "columns": [
        {
         "name": "index",
         "rawType": "int64",
         "type": "integer"
        },
        {
         "name": "movieId",
         "rawType": "int64",
         "type": "integer"
        },
        {
         "name": "title",
         "rawType": "object",
         "type": "string"
        },
        {
         "name": "genres",
         "rawType": "object",
         "type": "unknown"
        },
        {
         "name": "year",
         "rawType": "object",
         "type": "string"
        }
       ],
       "ref": "5ef7f60f-1bdd-4da5-9070-947088c1e731",
       "rows": [
        [
         "0",
         "1",
         "Toy Story",
         "['Adventure', 'Animation', 'Children', 'Comedy', 'Fantasy']",
         "1995"
        ],
        [
         "1",
         "2",
         "Jumanji",
         "['Adventure', 'Children', 'Fantasy']",
         "1995"
        ],
        [
         "2",
         "3",
         "Grumpier Old Men",
         "['Comedy', 'Romance']",
         "1995"
        ],
        [
         "3",
         "4",
         "Waiting to Exhale",
         "['Comedy', 'Drama', 'Romance']",
         "1995"
        ],
        [
         "4",
         "5",
         "Father of the Bride Part II",
         "['Comedy']",
         "1995"
        ]
       ],
       "shape": {
        "columns": 4,
        "rows": 5
       }
      },
      "text/html": [
       "<div>\n",
       "<style scoped>\n",
       "    .dataframe tbody tr th:only-of-type {\n",
       "        vertical-align: middle;\n",
       "    }\n",
       "\n",
       "    .dataframe tbody tr th {\n",
       "        vertical-align: top;\n",
       "    }\n",
       "\n",
       "    .dataframe thead th {\n",
       "        text-align: right;\n",
       "    }\n",
       "</style>\n",
       "<table border=\"1\" class=\"dataframe\">\n",
       "  <thead>\n",
       "    <tr style=\"text-align: right;\">\n",
       "      <th></th>\n",
       "      <th>movieId</th>\n",
       "      <th>title</th>\n",
       "      <th>genres</th>\n",
       "      <th>year</th>\n",
       "    </tr>\n",
       "  </thead>\n",
       "  <tbody>\n",
       "    <tr>\n",
       "      <th>0</th>\n",
       "      <td>1</td>\n",
       "      <td>Toy Story</td>\n",
       "      <td>[Adventure, Animation, Children, Comedy, Fantasy]</td>\n",
       "      <td>1995</td>\n",
       "    </tr>\n",
       "    <tr>\n",
       "      <th>1</th>\n",
       "      <td>2</td>\n",
       "      <td>Jumanji</td>\n",
       "      <td>[Adventure, Children, Fantasy]</td>\n",
       "      <td>1995</td>\n",
       "    </tr>\n",
       "    <tr>\n",
       "      <th>2</th>\n",
       "      <td>3</td>\n",
       "      <td>Grumpier Old Men</td>\n",
       "      <td>[Comedy, Romance]</td>\n",
       "      <td>1995</td>\n",
       "    </tr>\n",
       "    <tr>\n",
       "      <th>3</th>\n",
       "      <td>4</td>\n",
       "      <td>Waiting to Exhale</td>\n",
       "      <td>[Comedy, Drama, Romance]</td>\n",
       "      <td>1995</td>\n",
       "    </tr>\n",
       "    <tr>\n",
       "      <th>4</th>\n",
       "      <td>5</td>\n",
       "      <td>Father of the Bride Part II</td>\n",
       "      <td>[Comedy]</td>\n",
       "      <td>1995</td>\n",
       "    </tr>\n",
       "  </tbody>\n",
       "</table>\n",
       "</div>"
      ],
      "text/plain": [
       "   movieId                        title  \\\n",
       "0        1                    Toy Story   \n",
       "1        2                      Jumanji   \n",
       "2        3             Grumpier Old Men   \n",
       "3        4            Waiting to Exhale   \n",
       "4        5  Father of the Bride Part II   \n",
       "\n",
       "                                              genres  year  \n",
       "0  [Adventure, Animation, Children, Comedy, Fantasy]  1995  \n",
       "1                     [Adventure, Children, Fantasy]  1995  \n",
       "2                                  [Comedy, Romance]  1995  \n",
       "3                           [Comedy, Drama, Romance]  1995  \n",
       "4                                           [Comedy]  1995  "
      ]
     },
     "execution_count": 90,
     "metadata": {},
     "output_type": "execute_result"
    }
   ],
   "source": [
    "# make genres an array\n",
    "movie_df['genres'] = movie_df['genres'].str.split('|')\n",
    "movie_df.head()"
   ]
  },
  {
   "cell_type": "code",
   "execution_count": 91,
   "id": "5889f508",
   "metadata": {},
   "outputs": [
    {
     "data": {
      "application/vnd.microsoft.datawrangler.viewer.v0+json": {
       "columns": [
        {
         "name": "userId",
         "rawType": "int64",
         "type": "integer"
        },
        {
         "name": "movieId",
         "rawType": "int64",
         "type": "integer"
        },
        {
         "name": "rating",
         "rawType": "float64",
         "type": "float"
        },
        {
         "name": "timestamp",
         "rawType": "int64",
         "type": "integer"
        }
       ],
       "ref": "351aaec7-1b2e-4f82-84b0-8eb4023094b3",
       "rows": [
        [
         "1",
         "1",
         "4.0",
         "964982703"
        ],
        [
         "1",
         "3",
         "4.0",
         "964981247"
        ],
        [
         "1",
         "6",
         "4.0",
         "964982224"
        ],
        [
         "1",
         "47",
         "5.0",
         "964983815"
        ],
        [
         "1",
         "50",
         "5.0",
         "964982931"
        ]
       ],
       "shape": {
        "columns": 3,
        "rows": 5
       }
      },
      "text/html": [
       "<div>\n",
       "<style scoped>\n",
       "    .dataframe tbody tr th:only-of-type {\n",
       "        vertical-align: middle;\n",
       "    }\n",
       "\n",
       "    .dataframe tbody tr th {\n",
       "        vertical-align: top;\n",
       "    }\n",
       "\n",
       "    .dataframe thead th {\n",
       "        text-align: right;\n",
       "    }\n",
       "</style>\n",
       "<table border=\"1\" class=\"dataframe\">\n",
       "  <thead>\n",
       "    <tr style=\"text-align: right;\">\n",
       "      <th></th>\n",
       "      <th>movieId</th>\n",
       "      <th>rating</th>\n",
       "      <th>timestamp</th>\n",
       "    </tr>\n",
       "    <tr>\n",
       "      <th>userId</th>\n",
       "      <th></th>\n",
       "      <th></th>\n",
       "      <th></th>\n",
       "    </tr>\n",
       "  </thead>\n",
       "  <tbody>\n",
       "    <tr>\n",
       "      <th>1</th>\n",
       "      <td>1</td>\n",
       "      <td>4.0</td>\n",
       "      <td>964982703</td>\n",
       "    </tr>\n",
       "    <tr>\n",
       "      <th>1</th>\n",
       "      <td>3</td>\n",
       "      <td>4.0</td>\n",
       "      <td>964981247</td>\n",
       "    </tr>\n",
       "    <tr>\n",
       "      <th>1</th>\n",
       "      <td>6</td>\n",
       "      <td>4.0</td>\n",
       "      <td>964982224</td>\n",
       "    </tr>\n",
       "    <tr>\n",
       "      <th>1</th>\n",
       "      <td>47</td>\n",
       "      <td>5.0</td>\n",
       "      <td>964983815</td>\n",
       "    </tr>\n",
       "    <tr>\n",
       "      <th>1</th>\n",
       "      <td>50</td>\n",
       "      <td>5.0</td>\n",
       "      <td>964982931</td>\n",
       "    </tr>\n",
       "  </tbody>\n",
       "</table>\n",
       "</div>"
      ],
      "text/plain": [
       "        movieId  rating  timestamp\n",
       "userId                            \n",
       "1             1     4.0  964982703\n",
       "1             3     4.0  964981247\n",
       "1             6     4.0  964982224\n",
       "1            47     5.0  964983815\n",
       "1            50     5.0  964982931"
      ]
     },
     "execution_count": 91,
     "metadata": {},
     "output_type": "execute_result"
    }
   ],
   "source": [
    "ratings_df.head()"
   ]
  },
  {
   "cell_type": "code",
   "execution_count": 92,
   "id": "445ad162",
   "metadata": {},
   "outputs": [],
   "source": [
    "# remove the timestamp column from ratings_df\n",
    "ratings_df = ratings_df.drop(columns=['timestamp'])\n"
   ]
  },
  {
   "cell_type": "code",
   "execution_count": 93,
   "id": "3e3a1ab9",
   "metadata": {},
   "outputs": [
    {
     "data": {
      "application/vnd.microsoft.datawrangler.viewer.v0+json": {
       "columns": [
        {
         "name": "index",
         "rawType": "int64",
         "type": "integer"
        },
        {
         "name": "movieId",
         "rawType": "int64",
         "type": "integer"
        },
        {
         "name": "title",
         "rawType": "object",
         "type": "string"
        },
        {
         "name": "genres",
         "rawType": "object",
         "type": "unknown"
        },
        {
         "name": "year",
         "rawType": "object",
         "type": "string"
        },
        {
         "name": "rating",
         "rawType": "float64",
         "type": "float"
        }
       ],
       "ref": "edac9107-f8ba-4193-84c5-77667a530365",
       "rows": [
        [
         "0",
         "1",
         "Toy Story",
         "['Adventure', 'Animation', 'Children', 'Comedy', 'Fantasy']",
         "1995",
         "4.0"
        ],
        [
         "1",
         "1",
         "Toy Story",
         "['Adventure', 'Animation', 'Children', 'Comedy', 'Fantasy']",
         "1995",
         "4.0"
        ],
        [
         "2",
         "1",
         "Toy Story",
         "['Adventure', 'Animation', 'Children', 'Comedy', 'Fantasy']",
         "1995",
         "4.5"
        ],
        [
         "3",
         "1",
         "Toy Story",
         "['Adventure', 'Animation', 'Children', 'Comedy', 'Fantasy']",
         "1995",
         "2.5"
        ],
        [
         "4",
         "1",
         "Toy Story",
         "['Adventure', 'Animation', 'Children', 'Comedy', 'Fantasy']",
         "1995",
         "4.5"
        ]
       ],
       "shape": {
        "columns": 5,
        "rows": 5
       }
      },
      "text/html": [
       "<div>\n",
       "<style scoped>\n",
       "    .dataframe tbody tr th:only-of-type {\n",
       "        vertical-align: middle;\n",
       "    }\n",
       "\n",
       "    .dataframe tbody tr th {\n",
       "        vertical-align: top;\n",
       "    }\n",
       "\n",
       "    .dataframe thead th {\n",
       "        text-align: right;\n",
       "    }\n",
       "</style>\n",
       "<table border=\"1\" class=\"dataframe\">\n",
       "  <thead>\n",
       "    <tr style=\"text-align: right;\">\n",
       "      <th></th>\n",
       "      <th>movieId</th>\n",
       "      <th>title</th>\n",
       "      <th>genres</th>\n",
       "      <th>year</th>\n",
       "      <th>rating</th>\n",
       "    </tr>\n",
       "  </thead>\n",
       "  <tbody>\n",
       "    <tr>\n",
       "      <th>0</th>\n",
       "      <td>1</td>\n",
       "      <td>Toy Story</td>\n",
       "      <td>[Adventure, Animation, Children, Comedy, Fantasy]</td>\n",
       "      <td>1995</td>\n",
       "      <td>4.0</td>\n",
       "    </tr>\n",
       "    <tr>\n",
       "      <th>1</th>\n",
       "      <td>1</td>\n",
       "      <td>Toy Story</td>\n",
       "      <td>[Adventure, Animation, Children, Comedy, Fantasy]</td>\n",
       "      <td>1995</td>\n",
       "      <td>4.0</td>\n",
       "    </tr>\n",
       "    <tr>\n",
       "      <th>2</th>\n",
       "      <td>1</td>\n",
       "      <td>Toy Story</td>\n",
       "      <td>[Adventure, Animation, Children, Comedy, Fantasy]</td>\n",
       "      <td>1995</td>\n",
       "      <td>4.5</td>\n",
       "    </tr>\n",
       "    <tr>\n",
       "      <th>3</th>\n",
       "      <td>1</td>\n",
       "      <td>Toy Story</td>\n",
       "      <td>[Adventure, Animation, Children, Comedy, Fantasy]</td>\n",
       "      <td>1995</td>\n",
       "      <td>2.5</td>\n",
       "    </tr>\n",
       "    <tr>\n",
       "      <th>4</th>\n",
       "      <td>1</td>\n",
       "      <td>Toy Story</td>\n",
       "      <td>[Adventure, Animation, Children, Comedy, Fantasy]</td>\n",
       "      <td>1995</td>\n",
       "      <td>4.5</td>\n",
       "    </tr>\n",
       "  </tbody>\n",
       "</table>\n",
       "</div>"
      ],
      "text/plain": [
       "   movieId      title                                             genres  \\\n",
       "0        1  Toy Story  [Adventure, Animation, Children, Comedy, Fantasy]   \n",
       "1        1  Toy Story  [Adventure, Animation, Children, Comedy, Fantasy]   \n",
       "2        1  Toy Story  [Adventure, Animation, Children, Comedy, Fantasy]   \n",
       "3        1  Toy Story  [Adventure, Animation, Children, Comedy, Fantasy]   \n",
       "4        1  Toy Story  [Adventure, Animation, Children, Comedy, Fantasy]   \n",
       "\n",
       "   year  rating  \n",
       "0  1995     4.0  \n",
       "1  1995     4.0  \n",
       "2  1995     4.5  \n",
       "3  1995     2.5  \n",
       "4  1995     4.5  "
      ]
     },
     "execution_count": 93,
     "metadata": {},
     "output_type": "execute_result"
    }
   ],
   "source": [
    "# merge the two dataframes\n",
    "movie_ratings_df = pd.merge(movie_df, ratings_df, on='movieId', how='inner')\n",
    "movie_ratings_df.head()"
   ]
  },
  {
   "cell_type": "code",
   "execution_count": 94,
   "id": "0332e4b2",
   "metadata": {},
   "outputs": [
    {
     "name": "stdout",
     "output_type": "stream",
     "text": [
      "<class 'pandas.core.frame.DataFrame'>\n",
      "RangeIndex: 100836 entries, 0 to 100835\n",
      "Data columns (total 5 columns):\n",
      " #   Column   Non-Null Count   Dtype  \n",
      "---  ------   --------------   -----  \n",
      " 0   movieId  100836 non-null  int64  \n",
      " 1   title    100836 non-null  object \n",
      " 2   genres   100836 non-null  object \n",
      " 3   year     100818 non-null  object \n",
      " 4   rating   100836 non-null  float64\n",
      "dtypes: float64(1), int64(1), object(3)\n",
      "memory usage: 3.8+ MB\n"
     ]
    }
   ],
   "source": [
    "movie_ratings_df.info()"
   ]
  },
  {
   "cell_type": "code",
   "execution_count": 95,
   "id": "35de2826",
   "metadata": {},
   "outputs": [
    {
     "data": {
      "application/vnd.microsoft.datawrangler.viewer.v0+json": {
       "columns": [
        {
         "name": "index",
         "rawType": "object",
         "type": "string"
        },
        {
         "name": "0",
         "rawType": "int64",
         "type": "integer"
        }
       ],
       "ref": "d43872ef-fab2-4358-9f36-f1f9bd38aba9",
       "rows": [
        [
         "movieId",
         "0"
        ],
        [
         "title",
         "0"
        ],
        [
         "genres",
         "0"
        ],
        [
         "year",
         "18"
        ],
        [
         "rating",
         "0"
        ]
       ],
       "shape": {
        "columns": 1,
        "rows": 5
       }
      },
      "text/plain": [
       "movieId     0\n",
       "title       0\n",
       "genres      0\n",
       "year       18\n",
       "rating      0\n",
       "dtype: int64"
      ]
     },
     "execution_count": 95,
     "metadata": {},
     "output_type": "execute_result"
    }
   ],
   "source": [
    "movie_ratings_df.isnull().sum()"
   ]
  },
  {
   "cell_type": "code",
   "execution_count": 112,
   "id": "2d741961",
   "metadata": {},
   "outputs": [],
   "source": [
    "# replace null values in the year column with zero\n",
    "movie_ratings_df['year'] = movie_ratings_df['year'].replace(np.nan, 0)\n",
    "movie_ratings_df['year'] = movie_ratings_df['year'].astype(int)"
   ]
  },
  {
   "cell_type": "code",
   "execution_count": 113,
   "id": "57f63f2f",
   "metadata": {},
   "outputs": [
    {
     "data": {
      "text/plain": [
       "0"
      ]
     },
     "execution_count": 113,
     "metadata": {},
     "output_type": "execute_result"
    }
   ],
   "source": [
    "movie_ratings_df.isnull().sum(). sum()"
   ]
  },
  {
   "cell_type": "code",
   "execution_count": 98,
   "id": "4e7fdf90",
   "metadata": {},
   "outputs": [
    {
     "data": {
      "image/png": "[encoded data removed]",
      "text/plain": [
       "<Figure size 1200x600 with 1 Axes>"
      ]
     },
     "metadata": {},
     "output_type": "display_data"
    },
    {
     "data": {
      "text/plain": [
       "<Figure size 640x480 with 0 Axes>"
      ]
     },
     "metadata": {},
     "output_type": "display_data"
    }
   ],
   "source": [
    "# plot the distribution of movie per genre\n",
    "genre_counts = movie_ratings_df['genres'].explode().value_counts()\n",
    "\n",
    "plt.figure(figsize=(12, 6))\n",
    "genre_counts.plot(kind='bar', color='blue', edgecolor='black')\n",
    "plt.title('Distribution of Movies per Genre')\n",
    "plt.xlabel('Genre', fontsize=14)\n",
    "plt.ylabel('Number of Movies', fontsize=14)\n",
    "plt.xticks(rotation=45, ha='right')\n",
    "plt.tight_layout()\n",
    "plt.show()\n",
    "plt.savefig('genre_distribution.png')"
   ]
  },
  {
   "cell_type": "markdown",
   "id": "6dfe56f2",
   "metadata": {},
   "source": [
    "*Interpretation*\n",
    "- Top five genres\n",
    "- bottom three genre"
   ]
  },
  {
   "cell_type": "code",
   "execution_count": 99,
   "id": "01367c9d",
   "metadata": {},
   "outputs": [
    {
     "data": {
      "image/png": "[encoded data removed]",
      "text/plain": [
       "<Figure size 1000x600 with 1 Axes>"
      ]
     },
     "metadata": {},
     "output_type": "display_data"
    }
   ],
   "source": [
    "# plot the distribution of ratings\n",
    "plt.figure(figsize=(10, 6))\n",
    "movie_ratings_df['rating'].plot(kind='hist', bins=20, color='green', edgecolor='black')\n",
    "plt.title('Distribution of Ratings')\n",
    "plt.xlabel('Rating', fontsize=14)\n",
    "plt.ylabel('Frequency', fontsize=14)\n",
    "plt.xticks(np.arange(0, 6, 0.5))\n",
    "plt.xlim(0, 5)\n",
    "plt.tight_layout()\n",
    "plt.show()"
   ]
  },
  {
   "cell_type": "markdown",
   "id": "4cc12de5",
   "metadata": {},
   "source": [
    "*Interprating*\n",
    "- Most movies are rated 4"
   ]
  },
  {
   "cell_type": "code",
   "execution_count": 100,
   "id": "4f7bd71e",
   "metadata": {},
   "outputs": [
    {
     "data": {
      "image/png": "[encoded data removed]",
      "text/plain": [
       "<Figure size 1200x600 with 1 Axes>"
      ]
     },
     "metadata": {},
     "output_type": "display_data"
    }
   ],
   "source": [
    "# Rating per movie\n",
    "plt.figure(figsize=(12, 6))\n",
    "movie_ratings_df.groupby('title')['rating'].mean().sort_values(ascending=False).head(10).plot(kind='bar', color='orange', edgecolor='black')\n",
    "plt.title('Top 10 Movies by Average Rating')\n",
    "plt.xlabel('Movie Title', fontsize=14)\n",
    "plt.ylabel('Average Rating', fontsize=14)\n",
    "plt.xticks(rotation=45, ha='right')\n",
    "plt.tight_layout()\n",
    "plt.show()\n"
   ]
  },
  {
   "cell_type": "code",
   "execution_count": 101,
   "id": "d760bdcf",
   "metadata": {},
   "outputs": [
    {
     "data": {
      "image/png": "[encoded data removed]",
      "text/plain": [
       "<Figure size 1200x600 with 1 Axes>"
      ]
     },
     "metadata": {},
     "output_type": "display_data"
    }
   ],
   "source": [
    "# plot the distribution of ratings per genre\n",
    "plt.figure(figsize=(12, 6))\n",
    "movie_ratings_df.explode('genres').groupby('genres')['rating'].mean().sort_values(ascending=False).head(10).plot(kind='bar', color='purple', edgecolor='black')\n",
    "plt.title('Top 10 Genres by Average Rating')\n",
    "plt.xlabel('Genre', fontsize=14)\n",
    "plt.ylabel('Average Rating', fontsize=14)\n",
    "plt.xticks(rotation=45, ha='right')\n",
    "plt.tight_layout()\n",
    "plt.show()"
   ]
  },
  {
   "cell_type": "code",
   "execution_count": 102,
   "id": "2a529060",
   "metadata": {},
   "outputs": [
    {
     "data": {
      "application/vnd.microsoft.datawrangler.viewer.v0+json": {
       "columns": [
        {
         "name": "genres",
         "rawType": "object",
         "type": "string"
        },
        {
         "name": "rating",
         "rawType": "float64",
         "type": "float"
        }
       ],
       "ref": "3b7beacf-d325-4044-9cbf-cefb2ebb6a0e",
       "rows": [
        [
         "Film-Noir",
         "3.920114942528736"
        ],
        [
         "War",
         "3.8082938876312"
        ],
        [
         "Documentary",
         "3.797785069729286"
        ],
        [
         "Crime",
         "3.658293867274144"
        ],
        [
         "Drama",
         "3.6561844113718758"
        ],
        [
         "Mystery",
         "3.632460255407871"
        ],
        [
         "Animation",
         "3.6299370349170004"
        ],
        [
         "IMAX",
         "3.618335343787696"
        ],
        [
         "Western",
         "3.583937823834197"
        ],
        [
         "Musical",
         "3.5636781053649105"
        ],
        [
         "Adventure",
         "3.5086089151939075"
        ],
        [
         "Romance",
         "3.5065107040388437"
        ],
        [
         "Thriller",
         "3.4937055799183425"
        ],
        [
         "Fantasy",
         "3.4910005070136894"
        ],
        [
         "(no genres listed)",
         "3.4893617021276597"
        ],
        [
         "Sci-Fi",
         "3.455721162210752"
        ],
        [
         "Action",
         "3.447984331646809"
        ],
        [
         "Children",
         "3.412956125108601"
        ],
        [
         "Comedy",
         "3.3847207640898267"
        ],
        [
         "Horror",
         "3.258195034974626"
        ]
       ],
       "shape": {
        "columns": 1,
        "rows": 20
       }
      },
      "text/html": [
       "<div>\n",
       "<style scoped>\n",
       "    .dataframe tbody tr th:only-of-type {\n",
       "        vertical-align: middle;\n",
       "    }\n",
       "\n",
       "    .dataframe tbody tr th {\n",
       "        vertical-align: top;\n",
       "    }\n",
       "\n",
       "    .dataframe thead th {\n",
       "        text-align: right;\n",
       "    }\n",
       "</style>\n",
       "<table border=\"1\" class=\"dataframe\">\n",
       "  <thead>\n",
       "    <tr style=\"text-align: right;\">\n",
       "      <th></th>\n",
       "      <th>rating</th>\n",
       "    </tr>\n",
       "    <tr>\n",
       "      <th>genres</th>\n",
       "      <th></th>\n",
       "    </tr>\n",
       "  </thead>\n",
       "  <tbody>\n",
       "    <tr>\n",
       "      <th>Film-Noir</th>\n",
       "      <td>3.920115</td>\n",
       "    </tr>\n",
       "    <tr>\n",
       "      <th>War</th>\n",
       "      <td>3.808294</td>\n",
       "    </tr>\n",
       "    <tr>\n",
       "      <th>Documentary</th>\n",
       "      <td>3.797785</td>\n",
       "    </tr>\n",
       "    <tr>\n",
       "      <th>Crime</th>\n",
       "      <td>3.658294</td>\n",
       "    </tr>\n",
       "    <tr>\n",
       "      <th>Drama</th>\n",
       "      <td>3.656184</td>\n",
       "    </tr>\n",
       "    <tr>\n",
       "      <th>Mystery</th>\n",
       "      <td>3.632460</td>\n",
       "    </tr>\n",
       "    <tr>\n",
       "      <th>Animation</th>\n",
       "      <td>3.629937</td>\n",
       "    </tr>\n",
       "    <tr>\n",
       "      <th>IMAX</th>\n",
       "      <td>3.618335</td>\n",
       "    </tr>\n",
       "    <tr>\n",
       "      <th>Western</th>\n",
       "      <td>3.583938</td>\n",
       "    </tr>\n",
       "    <tr>\n",
       "      <th>Musical</th>\n",
       "      <td>3.563678</td>\n",
       "    </tr>\n",
       "    <tr>\n",
       "      <th>Adventure</th>\n",
       "      <td>3.508609</td>\n",
       "    </tr>\n",
       "    <tr>\n",
       "      <th>Romance</th>\n",
       "      <td>3.506511</td>\n",
       "    </tr>\n",
       "    <tr>\n",
       "      <th>Thriller</th>\n",
       "      <td>3.493706</td>\n",
       "    </tr>\n",
       "    <tr>\n",
       "      <th>Fantasy</th>\n",
       "      <td>3.491001</td>\n",
       "    </tr>\n",
       "    <tr>\n",
       "      <th>(no genres listed)</th>\n",
       "      <td>3.489362</td>\n",
       "    </tr>\n",
       "    <tr>\n",
       "      <th>Sci-Fi</th>\n",
       "      <td>3.455721</td>\n",
       "    </tr>\n",
       "    <tr>\n",
       "      <th>Action</th>\n",
       "      <td>3.447984</td>\n",
       "    </tr>\n",
       "    <tr>\n",
       "      <th>Children</th>\n",
       "      <td>3.412956</td>\n",
       "    </tr>\n",
       "    <tr>\n",
       "      <th>Comedy</th>\n",
       "      <td>3.384721</td>\n",
       "    </tr>\n",
       "    <tr>\n",
       "      <th>Horror</th>\n",
       "      <td>3.258195</td>\n",
       "    </tr>\n",
       "  </tbody>\n",
       "</table>\n",
       "</div>"
      ],
      "text/plain": [
       "                      rating\n",
       "genres                      \n",
       "Film-Noir           3.920115\n",
       "War                 3.808294\n",
       "Documentary         3.797785\n",
       "Crime               3.658294\n",
       "Drama               3.656184\n",
       "Mystery             3.632460\n",
       "Animation           3.629937\n",
       "IMAX                3.618335\n",
       "Western             3.583938\n",
       "Musical             3.563678\n",
       "Adventure           3.508609\n",
       "Romance             3.506511\n",
       "Thriller            3.493706\n",
       "Fantasy             3.491001\n",
       "(no genres listed)  3.489362\n",
       "Sci-Fi              3.455721\n",
       "Action              3.447984\n",
       "Children            3.412956\n",
       "Comedy              3.384721\n",
       "Horror              3.258195"
      ]
     },
     "execution_count": 102,
     "metadata": {},
     "output_type": "execute_result"
    }
   ],
   "source": [
    "#  create a pivot table for ratings per genre in ascending order\n",
    "pivot_table = movie_ratings_df.explode('genres').pivot_table(index='genres', values='rating', aggfunc='mean').sort_values(by='rating', ascending=False)\n",
    "pivot_table\n"
   ]
  },
  {
   "cell_type": "markdown",
   "id": "4cbae58c",
   "metadata": {},
   "source": [
    "*Interpretation*\n",
    "Film-Noir genre has the highest rating"
   ]
  },
  {
   "cell_type": "code",
   "execution_count": 110,
   "id": "2bd8db26",
   "metadata": {},
   "outputs": [
    {
     "data": {
      "application/vnd.microsoft.datawrangler.viewer.v0+json": {
       "columns": [
        {
         "name": "year",
         "rawType": "object",
         "type": "string"
        },
        {
         "name": "count",
         "rawType": "int64",
         "type": "integer"
        }
       ],
       "ref": "fe5c8659-ee81-4d60-9cb4-33418355fdb1",
       "rows": [
        [
         "1995",
         "6144"
        ],
        [
         "1994",
         "5296"
        ],
        [
         "1999",
         "4536"
        ],
        [
         "1996",
         "4509"
        ],
        [
         "2000",
         "4268"
        ],
        [
         "2001",
         "3914"
        ],
        [
         "1993",
         "3741"
        ],
        [
         "1997",
         "3643"
        ],
        [
         "2002",
         "3642"
        ],
        [
         "1998",
         "3557"
        ],
        [
         "2004",
         "3390"
        ],
        [
         "2003",
         "3145"
        ],
        [
         "2006",
         "2584"
        ],
        [
         "2005",
         "2498"
        ],
        [
         "2007",
         "2318"
        ],
        [
         "2008",
         "2151"
        ],
        [
         "1992",
         "2013"
        ],
        [
         "1990",
         "1926"
        ],
        [
         "1989",
         "1895"
        ],
        [
         "2009",
         "1856"
        ],
        [
         "1991",
         "1722"
        ],
        [
         "2010",
         "1715"
        ],
        [
         "1986",
         "1581"
        ],
        [
         "1988",
         "1551"
        ],
        [
         "1987",
         "1540"
        ],
        [
         "1984",
         "1441"
        ],
        [
         "2011",
         "1440"
        ],
        [
         "2012",
         "1386"
        ],
        [
         "2014",
         "1320"
        ],
        [
         "1985",
         "1237"
        ],
        [
         "2013",
         "1201"
        ],
        [
         "2015",
         "1088"
        ],
        [
         "1982",
         "1053"
        ],
        [
         "1980",
         "944"
        ],
        [
         "1983",
         "878"
        ],
        [
         "1981",
         "792"
        ],
        [
         "1979",
         "786"
        ],
        [
         "2016",
         "785"
        ],
        [
         "1975",
         "637"
        ],
        [
         "1977",
         "567"
        ],
        [
         "1971",
         "533"
        ],
        [
         "1978",
         "490"
        ],
        [
         "1973",
         "483"
        ],
        [
         "1974",
         "466"
        ],
        [
         "2017",
         "461"
        ],
        [
         "1968",
         "434"
        ],
        [
         "1976",
         "423"
        ],
        [
         "1967",
         "381"
        ],
        [
         "1964",
         "376"
        ],
        [
         "1972",
         "366"
        ]
       ],
       "shape": {
        "columns": 1,
        "rows": 106
       }
      },
      "text/plain": [
       "year\n",
       "1995    6144\n",
       "1994    5296\n",
       "1999    4536\n",
       "1996    4509\n",
       "2000    4268\n",
       "        ... \n",
       "1903       2\n",
       "1917       1\n",
       "1915       1\n",
       "1919       1\n",
       "1908       1\n",
       "Name: count, Length: 106, dtype: int64"
      ]
     },
     "execution_count": 110,
     "metadata": {},
     "output_type": "execute_result"
    }
   ],
   "source": [
    "movie_ratings_df['year'].value_counts()\n"
   ]
  },
  {
   "cell_type": "code",
   "execution_count": 115,
   "id": "bb171865",
   "metadata": {},
   "outputs": [
    {
     "data": {
      "application/vnd.microsoft.datawrangler.viewer.v0+json": {
       "columns": [
        {
         "name": "index",
         "rawType": "int64",
         "type": "integer"
        },
        {
         "name": "movieId",
         "rawType": "int64",
         "type": "integer"
        },
        {
         "name": "title",
         "rawType": "object",
         "type": "string"
        },
        {
         "name": "genres",
         "rawType": "object",
         "type": "unknown"
        },
        {
         "name": "year",
         "rawType": "int32",
         "type": "integer"
        },
        {
         "name": "rating",
         "rawType": "float64",
         "type": "float"
        }
       ],
       "ref": "27f056ad-6216-4bef-9c2c-9f5ffbb591ae",
       "rows": [
        [
         "100825",
         "191005",
         "Gintama",
         "['Action', 'Adventure', 'Comedy', 'Sci-Fi']",
         "2017",
         "4.5"
        ],
        [
         "100826",
         "193565",
         "Gintama: The Movie",
         "['Action', 'Animation', 'Comedy', 'Sci-Fi']",
         "2010",
         "3.5"
        ],
        [
         "100827",
         "193567",
         "anohana: The Flower We Saw That Day - The Movie",
         "['Animation', 'Drama']",
         "2013",
         "3.0"
        ],
        [
         "100828",
         "193571",
         "Silver Spoon",
         "['Comedy', 'Drama']",
         "2014",
         "4.0"
        ],
        [
         "100829",
         "193573",
         "Love Live! The School Idol Movie",
         "['Animation']",
         "2015",
         "4.0"
        ],
        [
         "100830",
         "193579",
         "Jon Stewart Has Left the Building",
         "['Documentary']",
         "2015",
         "3.5"
        ],
        [
         "100831",
         "193581",
         "Black Butler: Book of the Atlantic",
         "['Action', 'Animation', 'Comedy', 'Fantasy']",
         "2017",
         "4.0"
        ],
        [
         "100832",
         "193583",
         "No Game No Life: Zero",
         "['Animation', 'Comedy', 'Fantasy']",
         "2017",
         "3.5"
        ],
        [
         "100833",
         "193585",
         "Flint",
         "['Drama']",
         "2017",
         "3.5"
        ],
        [
         "100834",
         "193587",
         "Bungo Stray Dogs: Dead Apple",
         "['Action', 'Animation']",
         "2018",
         "3.5"
        ]
       ],
       "shape": {
        "columns": 5,
        "rows": 10
       }
      },
      "text/html": [
       "<div>\n",
       "<style scoped>\n",
       "    .dataframe tbody tr th:only-of-type {\n",
       "        vertical-align: middle;\n",
       "    }\n",
       "\n",
       "    .dataframe tbody tr th {\n",
       "        vertical-align: top;\n",
       "    }\n",
       "\n",
       "    .dataframe thead th {\n",
       "        text-align: right;\n",
       "    }\n",
       "</style>\n",
       "<table border=\"1\" class=\"dataframe\">\n",
       "  <thead>\n",
       "    <tr style=\"text-align: right;\">\n",
       "      <th></th>\n",
       "      <th>movieId</th>\n",
       "      <th>title</th>\n",
       "      <th>genres</th>\n",
       "      <th>year</th>\n",
       "      <th>rating</th>\n",
       "    </tr>\n",
       "  </thead>\n",
       "  <tbody>\n",
       "    <tr>\n",
       "      <th>100825</th>\n",
       "      <td>191005</td>\n",
       "      <td>Gintama</td>\n",
       "      <td>[Action, Adventure, Comedy, Sci-Fi]</td>\n",
       "      <td>2017</td>\n",
       "      <td>4.5</td>\n",
       "    </tr>\n",
       "    <tr>\n",
       "      <th>100826</th>\n",
       "      <td>193565</td>\n",
       "      <td>Gintama: The Movie</td>\n",
       "      <td>[Action, Animation, Comedy, Sci-Fi]</td>\n",
       "      <td>2010</td>\n",
       "      <td>3.5</td>\n",
       "    </tr>\n",
       "    <tr>\n",
       "      <th>100827</th>\n",
       "      <td>193567</td>\n",
       "      <td>anohana: The Flower We Saw That Day - The Movie</td>\n",
       "      <td>[Animation, Drama]</td>\n",
       "      <td>2013</td>\n",
       "      <td>3.0</td>\n",
       "    </tr>\n",
       "    <tr>\n",
       "      <th>100828</th>\n",
       "      <td>193571</td>\n",
       "      <td>Silver Spoon</td>\n",
       "      <td>[Comedy, Drama]</td>\n",
       "      <td>2014</td>\n",
       "      <td>4.0</td>\n",
       "    </tr>\n",
       "    <tr>\n",
       "      <th>100829</th>\n",
       "      <td>193573</td>\n",
       "      <td>Love Live! The School Idol Movie</td>\n",
       "      <td>[Animation]</td>\n",
       "      <td>2015</td>\n",
       "      <td>4.0</td>\n",
       "    </tr>\n",
       "    <tr>\n",
       "      <th>100830</th>\n",
       "      <td>193579</td>\n",
       "      <td>Jon Stewart Has Left the Building</td>\n",
       "      <td>[Documentary]</td>\n",
       "      <td>2015</td>\n",
       "      <td>3.5</td>\n",
       "    </tr>\n",
       "    <tr>\n",
       "      <th>100831</th>\n",
       "      <td>193581</td>\n",
       "      <td>Black Butler: Book of the Atlantic</td>\n",
       "      <td>[Action, Animation, Comedy, Fantasy]</td>\n",
       "      <td>2017</td>\n",
       "      <td>4.0</td>\n",
       "    </tr>\n",
       "    <tr>\n",
       "      <th>100832</th>\n",
       "      <td>193583</td>\n",
       "      <td>No Game No Life: Zero</td>\n",
       "      <td>[Animation, Comedy, Fantasy]</td>\n",
       "      <td>2017</td>\n",
       "      <td>3.5</td>\n",
       "    </tr>\n",
       "    <tr>\n",
       "      <th>100833</th>\n",
       "      <td>193585</td>\n",
       "      <td>Flint</td>\n",
       "      <td>[Drama]</td>\n",
       "      <td>2017</td>\n",
       "      <td>3.5</td>\n",
       "    </tr>\n",
       "    <tr>\n",
       "      <th>100834</th>\n",
       "      <td>193587</td>\n",
       "      <td>Bungo Stray Dogs: Dead Apple</td>\n",
       "      <td>[Action, Animation]</td>\n",
       "      <td>2018</td>\n",
       "      <td>3.5</td>\n",
       "    </tr>\n",
       "  </tbody>\n",
       "</table>\n",
       "</div>"
      ],
      "text/plain": [
       "        movieId                                            title  \\\n",
       "100825   191005                                          Gintama   \n",
       "100826   193565                               Gintama: The Movie   \n",
       "100827   193567  anohana: The Flower We Saw That Day - The Movie   \n",
       "100828   193571                                     Silver Spoon   \n",
       "100829   193573                 Love Live! The School Idol Movie   \n",
       "100830   193579                Jon Stewart Has Left the Building   \n",
       "100831   193581               Black Butler: Book of the Atlantic   \n",
       "100832   193583                            No Game No Life: Zero   \n",
       "100833   193585                                            Flint   \n",
       "100834   193587                     Bungo Stray Dogs: Dead Apple   \n",
       "\n",
       "                                      genres  year  rating  \n",
       "100825   [Action, Adventure, Comedy, Sci-Fi]  2017     4.5  \n",
       "100826   [Action, Animation, Comedy, Sci-Fi]  2010     3.5  \n",
       "100827                    [Animation, Drama]  2013     3.0  \n",
       "100828                       [Comedy, Drama]  2014     4.0  \n",
       "100829                           [Animation]  2015     4.0  \n",
       "100830                         [Documentary]  2015     3.5  \n",
       "100831  [Action, Animation, Comedy, Fantasy]  2017     4.0  \n",
       "100832          [Animation, Comedy, Fantasy]  2017     3.5  \n",
       "100833                               [Drama]  2017     3.5  \n",
       "100834                   [Action, Animation]  2018     3.5  "
      ]
     },
     "execution_count": 115,
     "metadata": {},
     "output_type": "execute_result"
    }
   ],
   "source": [
    "# drop year upto 1995\n",
    "movie_ratings_df = movie_ratings_df[movie_ratings_df['year'].astype(int) >= 1995]\n",
    "movie_ratings_df.tail(10)"
   ]
  },
  {
   "cell_type": "code",
   "execution_count": null,
   "id": "a6e68b7f",
   "metadata": {},
   "outputs": [],
   "source": []
  }
 ],
 "metadata": {
  "kernelspec": {
   "display_name": "machine_env",
   "language": "python",
   "name": "python3"
  },
  "language_info": {
   "codemirror_mode": {
    "name": "ipython",
    "version": 3
   },
   "file_extension": ".py",
   "mimetype": "text/x-python",
   "name": "python",
   "nbconvert_exporter": "python",
   "pygments_lexer": "ipython3",
   "version": "3.12.3"
  }
 },
 "nbformat": 4,
 "nbformat_minor": 5
}
